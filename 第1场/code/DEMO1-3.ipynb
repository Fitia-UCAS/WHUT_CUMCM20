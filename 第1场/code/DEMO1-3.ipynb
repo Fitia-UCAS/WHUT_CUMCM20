{
  "nbformat": 4,
  "nbformat_minor": 0,
  "metadata": {
    "colab": {
      "name": "DEMO1.ipynb",
      "provenance": [],
      "collapsed_sections": [],
      "toc_visible": true
    },
    "kernelspec": {
      "name": "python3",
      "display_name": "Python 3"
    },
    "widgets": {
      "application/vnd.jupyter.widget-state+json": {
        "808dd9da0ca34c1d9ad82e1729fc9334": {
          "model_module": "@jupyter-widgets/controls",
          "model_name": "HBoxModel",
          "state": {
            "_view_name": "HBoxView",
            "_dom_classes": [],
            "_model_name": "HBoxModel",
            "_view_module": "@jupyter-widgets/controls",
            "_model_module_version": "1.5.0",
            "_view_count": null,
            "_view_module_version": "1.5.0",
            "box_style": "",
            "layout": "IPY_MODEL_1f021efb6ba84b368bb70c36b88a2e75",
            "_model_module": "@jupyter-widgets/controls",
            "children": [
              "IPY_MODEL_59f9c8a619f04c5c878c0e0cf700003c",
              "IPY_MODEL_1af51246e9634c5cb79c35a98403db1b"
            ]
          }
        },
        "1f021efb6ba84b368bb70c36b88a2e75": {
          "model_module": "@jupyter-widgets/base",
          "model_name": "LayoutModel",
          "state": {
            "_view_name": "LayoutView",
            "grid_template_rows": null,
            "right": null,
            "justify_content": null,
            "_view_module": "@jupyter-widgets/base",
            "overflow": null,
            "_model_module_version": "1.2.0",
            "_view_count": null,
            "flex_flow": null,
            "width": null,
            "min_width": null,
            "border": null,
            "align_items": null,
            "bottom": null,
            "_model_module": "@jupyter-widgets/base",
            "top": null,
            "grid_column": null,
            "overflow_y": null,
            "overflow_x": null,
            "grid_auto_flow": null,
            "grid_area": null,
            "grid_template_columns": null,
            "flex": null,
            "_model_name": "LayoutModel",
            "justify_items": null,
            "grid_row": null,
            "max_height": null,
            "align_content": null,
            "visibility": null,
            "align_self": null,
            "height": null,
            "min_height": null,
            "padding": null,
            "grid_auto_rows": null,
            "grid_gap": null,
            "max_width": null,
            "order": null,
            "_view_module_version": "1.2.0",
            "grid_template_areas": null,
            "object_position": null,
            "object_fit": null,
            "grid_auto_columns": null,
            "margin": null,
            "display": null,
            "left": null
          }
        },
        "59f9c8a619f04c5c878c0e0cf700003c": {
          "model_module": "@jupyter-widgets/controls",
          "model_name": "FloatProgressModel",
          "state": {
            "_view_name": "ProgressView",
            "style": "IPY_MODEL_211186aec7ea45889cbd304a7ec0f17c",
            "_dom_classes": [],
            "description": "100%",
            "_model_name": "FloatProgressModel",
            "bar_style": "success",
            "max": 181,
            "_view_module": "@jupyter-widgets/controls",
            "_model_module_version": "1.5.0",
            "value": 181,
            "_view_count": null,
            "_view_module_version": "1.5.0",
            "orientation": "horizontal",
            "min": 0,
            "description_tooltip": null,
            "_model_module": "@jupyter-widgets/controls",
            "layout": "IPY_MODEL_b37e22bdbb4e4f1aac85e4cc20c87cdc"
          }
        },
        "1af51246e9634c5cb79c35a98403db1b": {
          "model_module": "@jupyter-widgets/controls",
          "model_name": "HTMLModel",
          "state": {
            "_view_name": "HTMLView",
            "style": "IPY_MODEL_50539b2539eb49e9b0236c95ddc09299",
            "_dom_classes": [],
            "description": "",
            "_model_name": "HTMLModel",
            "placeholder": "​",
            "_view_module": "@jupyter-widgets/controls",
            "_model_module_version": "1.5.0",
            "value": " 181/181 [14:37&lt;00:00,  4.85s/it]",
            "_view_count": null,
            "_view_module_version": "1.5.0",
            "description_tooltip": null,
            "_model_module": "@jupyter-widgets/controls",
            "layout": "IPY_MODEL_e92fe4ff298945538d727c728cd2ac22"
          }
        },
        "211186aec7ea45889cbd304a7ec0f17c": {
          "model_module": "@jupyter-widgets/controls",
          "model_name": "ProgressStyleModel",
          "state": {
            "_view_name": "StyleView",
            "_model_name": "ProgressStyleModel",
            "description_width": "initial",
            "_view_module": "@jupyter-widgets/base",
            "_model_module_version": "1.5.0",
            "_view_count": null,
            "_view_module_version": "1.2.0",
            "bar_color": null,
            "_model_module": "@jupyter-widgets/controls"
          }
        },
        "b37e22bdbb4e4f1aac85e4cc20c87cdc": {
          "model_module": "@jupyter-widgets/base",
          "model_name": "LayoutModel",
          "state": {
            "_view_name": "LayoutView",
            "grid_template_rows": null,
            "right": null,
            "justify_content": null,
            "_view_module": "@jupyter-widgets/base",
            "overflow": null,
            "_model_module_version": "1.2.0",
            "_view_count": null,
            "flex_flow": null,
            "width": null,
            "min_width": null,
            "border": null,
            "align_items": null,
            "bottom": null,
            "_model_module": "@jupyter-widgets/base",
            "top": null,
            "grid_column": null,
            "overflow_y": null,
            "overflow_x": null,
            "grid_auto_flow": null,
            "grid_area": null,
            "grid_template_columns": null,
            "flex": null,
            "_model_name": "LayoutModel",
            "justify_items": null,
            "grid_row": null,
            "max_height": null,
            "align_content": null,
            "visibility": null,
            "align_self": null,
            "height": null,
            "min_height": null,
            "padding": null,
            "grid_auto_rows": null,
            "grid_gap": null,
            "max_width": null,
            "order": null,
            "_view_module_version": "1.2.0",
            "grid_template_areas": null,
            "object_position": null,
            "object_fit": null,
            "grid_auto_columns": null,
            "margin": null,
            "display": null,
            "left": null
          }
        },
        "50539b2539eb49e9b0236c95ddc09299": {
          "model_module": "@jupyter-widgets/controls",
          "model_name": "DescriptionStyleModel",
          "state": {
            "_view_name": "StyleView",
            "_model_name": "DescriptionStyleModel",
            "description_width": "",
            "_view_module": "@jupyter-widgets/base",
            "_model_module_version": "1.5.0",
            "_view_count": null,
            "_view_module_version": "1.2.0",
            "_model_module": "@jupyter-widgets/controls"
          }
        },
        "e92fe4ff298945538d727c728cd2ac22": {
          "model_module": "@jupyter-widgets/base",
          "model_name": "LayoutModel",
          "state": {
            "_view_name": "LayoutView",
            "grid_template_rows": null,
            "right": null,
            "justify_content": null,
            "_view_module": "@jupyter-widgets/base",
            "overflow": null,
            "_model_module_version": "1.2.0",
            "_view_count": null,
            "flex_flow": null,
            "width": null,
            "min_width": null,
            "border": null,
            "align_items": null,
            "bottom": null,
            "_model_module": "@jupyter-widgets/base",
            "top": null,
            "grid_column": null,
            "overflow_y": null,
            "overflow_x": null,
            "grid_auto_flow": null,
            "grid_area": null,
            "grid_template_columns": null,
            "flex": null,
            "_model_name": "LayoutModel",
            "justify_items": null,
            "grid_row": null,
            "max_height": null,
            "align_content": null,
            "visibility": null,
            "align_self": null,
            "height": null,
            "min_height": null,
            "padding": null,
            "grid_auto_rows": null,
            "grid_gap": null,
            "max_width": null,
            "order": null,
            "_view_module_version": "1.2.0",
            "grid_template_areas": null,
            "object_position": null,
            "object_fit": null,
            "grid_auto_columns": null,
            "margin": null,
            "display": null,
            "left": null
          }
        },
        "61b8c50c0d3d4a868ec12e48a7882cc4": {
          "model_module": "@jupyter-widgets/controls",
          "model_name": "HBoxModel",
          "state": {
            "_view_name": "HBoxView",
            "_dom_classes": [],
            "_model_name": "HBoxModel",
            "_view_module": "@jupyter-widgets/controls",
            "_model_module_version": "1.5.0",
            "_view_count": null,
            "_view_module_version": "1.5.0",
            "box_style": "",
            "layout": "IPY_MODEL_2191708bcad748a79a0ba62f2c5374ce",
            "_model_module": "@jupyter-widgets/controls",
            "children": [
              "IPY_MODEL_61085af8972646179fc919b7b07d9d8f",
              "IPY_MODEL_19d85fe55a3142a6b2e9b9d2f70c5645"
            ]
          }
        },
        "2191708bcad748a79a0ba62f2c5374ce": {
          "model_module": "@jupyter-widgets/base",
          "model_name": "LayoutModel",
          "state": {
            "_view_name": "LayoutView",
            "grid_template_rows": null,
            "right": null,
            "justify_content": null,
            "_view_module": "@jupyter-widgets/base",
            "overflow": null,
            "_model_module_version": "1.2.0",
            "_view_count": null,
            "flex_flow": null,
            "width": null,
            "min_width": null,
            "border": null,
            "align_items": null,
            "bottom": null,
            "_model_module": "@jupyter-widgets/base",
            "top": null,
            "grid_column": null,
            "overflow_y": null,
            "overflow_x": null,
            "grid_auto_flow": null,
            "grid_area": null,
            "grid_template_columns": null,
            "flex": null,
            "_model_name": "LayoutModel",
            "justify_items": null,
            "grid_row": null,
            "max_height": null,
            "align_content": null,
            "visibility": null,
            "align_self": null,
            "height": null,
            "min_height": null,
            "padding": null,
            "grid_auto_rows": null,
            "grid_gap": null,
            "max_width": null,
            "order": null,
            "_view_module_version": "1.2.0",
            "grid_template_areas": null,
            "object_position": null,
            "object_fit": null,
            "grid_auto_columns": null,
            "margin": null,
            "display": null,
            "left": null
          }
        },
        "61085af8972646179fc919b7b07d9d8f": {
          "model_module": "@jupyter-widgets/controls",
          "model_name": "FloatProgressModel",
          "state": {
            "_view_name": "ProgressView",
            "style": "IPY_MODEL_8a86c0ed67a64948b7e699ae9aa4f096",
            "_dom_classes": [],
            "description": "100%",
            "_model_name": "FloatProgressModel",
            "bar_style": "success",
            "max": 168,
            "_view_module": "@jupyter-widgets/controls",
            "_model_module_version": "1.5.0",
            "value": 168,
            "_view_count": null,
            "_view_module_version": "1.5.0",
            "orientation": "horizontal",
            "min": 0,
            "description_tooltip": null,
            "_model_module": "@jupyter-widgets/controls",
            "layout": "IPY_MODEL_22f242d204c548e4a5a2324b197718f7"
          }
        },
        "19d85fe55a3142a6b2e9b9d2f70c5645": {
          "model_module": "@jupyter-widgets/controls",
          "model_name": "HTMLModel",
          "state": {
            "_view_name": "HTMLView",
            "style": "IPY_MODEL_18c5ecbef07c479b9c78ce8c38585aff",
            "_dom_classes": [],
            "description": "",
            "_model_name": "HTMLModel",
            "placeholder": "​",
            "_view_module": "@jupyter-widgets/controls",
            "_model_module_version": "1.5.0",
            "value": " 168/168 [10:05&lt;00:00,  3.61s/it]",
            "_view_count": null,
            "_view_module_version": "1.5.0",
            "description_tooltip": null,
            "_model_module": "@jupyter-widgets/controls",
            "layout": "IPY_MODEL_f0569656d66f48b5afabae8eaf7289e5"
          }
        },
        "8a86c0ed67a64948b7e699ae9aa4f096": {
          "model_module": "@jupyter-widgets/controls",
          "model_name": "ProgressStyleModel",
          "state": {
            "_view_name": "StyleView",
            "_model_name": "ProgressStyleModel",
            "description_width": "initial",
            "_view_module": "@jupyter-widgets/base",
            "_model_module_version": "1.5.0",
            "_view_count": null,
            "_view_module_version": "1.2.0",
            "bar_color": null,
            "_model_module": "@jupyter-widgets/controls"
          }
        },
        "22f242d204c548e4a5a2324b197718f7": {
          "model_module": "@jupyter-widgets/base",
          "model_name": "LayoutModel",
          "state": {
            "_view_name": "LayoutView",
            "grid_template_rows": null,
            "right": null,
            "justify_content": null,
            "_view_module": "@jupyter-widgets/base",
            "overflow": null,
            "_model_module_version": "1.2.0",
            "_view_count": null,
            "flex_flow": null,
            "width": null,
            "min_width": null,
            "border": null,
            "align_items": null,
            "bottom": null,
            "_model_module": "@jupyter-widgets/base",
            "top": null,
            "grid_column": null,
            "overflow_y": null,
            "overflow_x": null,
            "grid_auto_flow": null,
            "grid_area": null,
            "grid_template_columns": null,
            "flex": null,
            "_model_name": "LayoutModel",
            "justify_items": null,
            "grid_row": null,
            "max_height": null,
            "align_content": null,
            "visibility": null,
            "align_self": null,
            "height": null,
            "min_height": null,
            "padding": null,
            "grid_auto_rows": null,
            "grid_gap": null,
            "max_width": null,
            "order": null,
            "_view_module_version": "1.2.0",
            "grid_template_areas": null,
            "object_position": null,
            "object_fit": null,
            "grid_auto_columns": null,
            "margin": null,
            "display": null,
            "left": null
          }
        },
        "18c5ecbef07c479b9c78ce8c38585aff": {
          "model_module": "@jupyter-widgets/controls",
          "model_name": "DescriptionStyleModel",
          "state": {
            "_view_name": "StyleView",
            "_model_name": "DescriptionStyleModel",
            "description_width": "",
            "_view_module": "@jupyter-widgets/base",
            "_model_module_version": "1.5.0",
            "_view_count": null,
            "_view_module_version": "1.2.0",
            "_model_module": "@jupyter-widgets/controls"
          }
        },
        "f0569656d66f48b5afabae8eaf7289e5": {
          "model_module": "@jupyter-widgets/base",
          "model_name": "LayoutModel",
          "state": {
            "_view_name": "LayoutView",
            "grid_template_rows": null,
            "right": null,
            "justify_content": null,
            "_view_module": "@jupyter-widgets/base",
            "overflow": null,
            "_model_module_version": "1.2.0",
            "_view_count": null,
            "flex_flow": null,
            "width": null,
            "min_width": null,
            "border": null,
            "align_items": null,
            "bottom": null,
            "_model_module": "@jupyter-widgets/base",
            "top": null,
            "grid_column": null,
            "overflow_y": null,
            "overflow_x": null,
            "grid_auto_flow": null,
            "grid_area": null,
            "grid_template_columns": null,
            "flex": null,
            "_model_name": "LayoutModel",
            "justify_items": null,
            "grid_row": null,
            "max_height": null,
            "align_content": null,
            "visibility": null,
            "align_self": null,
            "height": null,
            "min_height": null,
            "padding": null,
            "grid_auto_rows": null,
            "grid_gap": null,
            "max_width": null,
            "order": null,
            "_view_module_version": "1.2.0",
            "grid_template_areas": null,
            "object_position": null,
            "object_fit": null,
            "grid_auto_columns": null,
            "margin": null,
            "display": null,
            "left": null
          }
        },
        "46cc5210d3d04fc2ad81133bc7de4ab6": {
          "model_module": "@jupyter-widgets/controls",
          "model_name": "HBoxModel",
          "state": {
            "_view_name": "HBoxView",
            "_dom_classes": [],
            "_model_name": "HBoxModel",
            "_view_module": "@jupyter-widgets/controls",
            "_model_module_version": "1.5.0",
            "_view_count": null,
            "_view_module_version": "1.5.0",
            "box_style": "",
            "layout": "IPY_MODEL_095abc5a3ef440cfa79d10778f32eb5e",
            "_model_module": "@jupyter-widgets/controls",
            "children": [
              "IPY_MODEL_caa5169ab9814f469854ff7908c54f5c",
              "IPY_MODEL_41975d8d29654bcfb260768bb611d982"
            ]
          }
        },
        "095abc5a3ef440cfa79d10778f32eb5e": {
          "model_module": "@jupyter-widgets/base",
          "model_name": "LayoutModel",
          "state": {
            "_view_name": "LayoutView",
            "grid_template_rows": null,
            "right": null,
            "justify_content": null,
            "_view_module": "@jupyter-widgets/base",
            "overflow": null,
            "_model_module_version": "1.2.0",
            "_view_count": null,
            "flex_flow": null,
            "width": null,
            "min_width": null,
            "border": null,
            "align_items": null,
            "bottom": null,
            "_model_module": "@jupyter-widgets/base",
            "top": null,
            "grid_column": null,
            "overflow_y": null,
            "overflow_x": null,
            "grid_auto_flow": null,
            "grid_area": null,
            "grid_template_columns": null,
            "flex": null,
            "_model_name": "LayoutModel",
            "justify_items": null,
            "grid_row": null,
            "max_height": null,
            "align_content": null,
            "visibility": null,
            "align_self": null,
            "height": null,
            "min_height": null,
            "padding": null,
            "grid_auto_rows": null,
            "grid_gap": null,
            "max_width": null,
            "order": null,
            "_view_module_version": "1.2.0",
            "grid_template_areas": null,
            "object_position": null,
            "object_fit": null,
            "grid_auto_columns": null,
            "margin": null,
            "display": null,
            "left": null
          }
        },
        "caa5169ab9814f469854ff7908c54f5c": {
          "model_module": "@jupyter-widgets/controls",
          "model_name": "FloatProgressModel",
          "state": {
            "_view_name": "ProgressView",
            "style": "IPY_MODEL_1964c08246134c779f8f630e562db7df",
            "_dom_classes": [],
            "description": "100%",
            "_model_name": "FloatProgressModel",
            "bar_style": "success",
            "max": 5,
            "_view_module": "@jupyter-widgets/controls",
            "_model_module_version": "1.5.0",
            "value": 5,
            "_view_count": null,
            "_view_module_version": "1.5.0",
            "orientation": "horizontal",
            "min": 0,
            "description_tooltip": null,
            "_model_module": "@jupyter-widgets/controls",
            "layout": "IPY_MODEL_9d5e6a7ce29948e296bd3a771ab690d2"
          }
        },
        "41975d8d29654bcfb260768bb611d982": {
          "model_module": "@jupyter-widgets/controls",
          "model_name": "HTMLModel",
          "state": {
            "_view_name": "HTMLView",
            "style": "IPY_MODEL_b69f9dbedf8c4515994ab6d174137b43",
            "_dom_classes": [],
            "description": "",
            "_model_name": "HTMLModel",
            "placeholder": "​",
            "_view_module": "@jupyter-widgets/controls",
            "_model_module_version": "1.5.0",
            "value": " 5/5 [07:24&lt;00:00, 88.81s/it]",
            "_view_count": null,
            "_view_module_version": "1.5.0",
            "description_tooltip": null,
            "_model_module": "@jupyter-widgets/controls",
            "layout": "IPY_MODEL_2a79e1c02de640e5821bd8883365a280"
          }
        },
        "1964c08246134c779f8f630e562db7df": {
          "model_module": "@jupyter-widgets/controls",
          "model_name": "ProgressStyleModel",
          "state": {
            "_view_name": "StyleView",
            "_model_name": "ProgressStyleModel",
            "description_width": "initial",
            "_view_module": "@jupyter-widgets/base",
            "_model_module_version": "1.5.0",
            "_view_count": null,
            "_view_module_version": "1.2.0",
            "bar_color": null,
            "_model_module": "@jupyter-widgets/controls"
          }
        },
        "9d5e6a7ce29948e296bd3a771ab690d2": {
          "model_module": "@jupyter-widgets/base",
          "model_name": "LayoutModel",
          "state": {
            "_view_name": "LayoutView",
            "grid_template_rows": null,
            "right": null,
            "justify_content": null,
            "_view_module": "@jupyter-widgets/base",
            "overflow": null,
            "_model_module_version": "1.2.0",
            "_view_count": null,
            "flex_flow": null,
            "width": null,
            "min_width": null,
            "border": null,
            "align_items": null,
            "bottom": null,
            "_model_module": "@jupyter-widgets/base",
            "top": null,
            "grid_column": null,
            "overflow_y": null,
            "overflow_x": null,
            "grid_auto_flow": null,
            "grid_area": null,
            "grid_template_columns": null,
            "flex": null,
            "_model_name": "LayoutModel",
            "justify_items": null,
            "grid_row": null,
            "max_height": null,
            "align_content": null,
            "visibility": null,
            "align_self": null,
            "height": null,
            "min_height": null,
            "padding": null,
            "grid_auto_rows": null,
            "grid_gap": null,
            "max_width": null,
            "order": null,
            "_view_module_version": "1.2.0",
            "grid_template_areas": null,
            "object_position": null,
            "object_fit": null,
            "grid_auto_columns": null,
            "margin": null,
            "display": null,
            "left": null
          }
        },
        "b69f9dbedf8c4515994ab6d174137b43": {
          "model_module": "@jupyter-widgets/controls",
          "model_name": "DescriptionStyleModel",
          "state": {
            "_view_name": "StyleView",
            "_model_name": "DescriptionStyleModel",
            "description_width": "",
            "_view_module": "@jupyter-widgets/base",
            "_model_module_version": "1.5.0",
            "_view_count": null,
            "_view_module_version": "1.2.0",
            "_model_module": "@jupyter-widgets/controls"
          }
        },
        "2a79e1c02de640e5821bd8883365a280": {
          "model_module": "@jupyter-widgets/base",
          "model_name": "LayoutModel",
          "state": {
            "_view_name": "LayoutView",
            "grid_template_rows": null,
            "right": null,
            "justify_content": null,
            "_view_module": "@jupyter-widgets/base",
            "overflow": null,
            "_model_module_version": "1.2.0",
            "_view_count": null,
            "flex_flow": null,
            "width": null,
            "min_width": null,
            "border": null,
            "align_items": null,
            "bottom": null,
            "_model_module": "@jupyter-widgets/base",
            "top": null,
            "grid_column": null,
            "overflow_y": null,
            "overflow_x": null,
            "grid_auto_flow": null,
            "grid_area": null,
            "grid_template_columns": null,
            "flex": null,
            "_model_name": "LayoutModel",
            "justify_items": null,
            "grid_row": null,
            "max_height": null,
            "align_content": null,
            "visibility": null,
            "align_self": null,
            "height": null,
            "min_height": null,
            "padding": null,
            "grid_auto_rows": null,
            "grid_gap": null,
            "max_width": null,
            "order": null,
            "_view_module_version": "1.2.0",
            "grid_template_areas": null,
            "object_position": null,
            "object_fit": null,
            "grid_auto_columns": null,
            "margin": null,
            "display": null,
            "left": null
          }
        },
        "3d11991f26c24c81805fdc783ce59322": {
          "model_module": "@jupyter-widgets/controls",
          "model_name": "HBoxModel",
          "state": {
            "_view_name": "HBoxView",
            "_dom_classes": [],
            "_model_name": "HBoxModel",
            "_view_module": "@jupyter-widgets/controls",
            "_model_module_version": "1.5.0",
            "_view_count": null,
            "_view_module_version": "1.5.0",
            "box_style": "",
            "layout": "IPY_MODEL_2fb88e68ad9245a7aa6299410bc66b33",
            "_model_module": "@jupyter-widgets/controls",
            "children": [
              "IPY_MODEL_508e4411bf67411d96dae6afe52bd8c9",
              "IPY_MODEL_620083f5205d4ee189cca172e8e68bd9"
            ]
          }
        },
        "2fb88e68ad9245a7aa6299410bc66b33": {
          "model_module": "@jupyter-widgets/base",
          "model_name": "LayoutModel",
          "state": {
            "_view_name": "LayoutView",
            "grid_template_rows": null,
            "right": null,
            "justify_content": null,
            "_view_module": "@jupyter-widgets/base",
            "overflow": null,
            "_model_module_version": "1.2.0",
            "_view_count": null,
            "flex_flow": null,
            "width": null,
            "min_width": null,
            "border": null,
            "align_items": null,
            "bottom": null,
            "_model_module": "@jupyter-widgets/base",
            "top": null,
            "grid_column": null,
            "overflow_y": null,
            "overflow_x": null,
            "grid_auto_flow": null,
            "grid_area": null,
            "grid_template_columns": null,
            "flex": null,
            "_model_name": "LayoutModel",
            "justify_items": null,
            "grid_row": null,
            "max_height": null,
            "align_content": null,
            "visibility": null,
            "align_self": null,
            "height": null,
            "min_height": null,
            "padding": null,
            "grid_auto_rows": null,
            "grid_gap": null,
            "max_width": null,
            "order": null,
            "_view_module_version": "1.2.0",
            "grid_template_areas": null,
            "object_position": null,
            "object_fit": null,
            "grid_auto_columns": null,
            "margin": null,
            "display": null,
            "left": null
          }
        },
        "508e4411bf67411d96dae6afe52bd8c9": {
          "model_module": "@jupyter-widgets/controls",
          "model_name": "FloatProgressModel",
          "state": {
            "_view_name": "ProgressView",
            "style": "IPY_MODEL_0caee22a61b54c63bb1e4ae45a58b62e",
            "_dom_classes": [],
            "description": "100%",
            "_model_name": "FloatProgressModel",
            "bar_style": "success",
            "max": 4,
            "_view_module": "@jupyter-widgets/controls",
            "_model_module_version": "1.5.0",
            "value": 4,
            "_view_count": null,
            "_view_module_version": "1.5.0",
            "orientation": "horizontal",
            "min": 0,
            "description_tooltip": null,
            "_model_module": "@jupyter-widgets/controls",
            "layout": "IPY_MODEL_1048b1d45dbd4620889c4250e9ac8e5e"
          }
        },
        "620083f5205d4ee189cca172e8e68bd9": {
          "model_module": "@jupyter-widgets/controls",
          "model_name": "HTMLModel",
          "state": {
            "_view_name": "HTMLView",
            "style": "IPY_MODEL_df2ac8371edb46abb15ca22627a1f296",
            "_dom_classes": [],
            "description": "",
            "_model_name": "HTMLModel",
            "placeholder": "​",
            "_view_module": "@jupyter-widgets/controls",
            "_model_module_version": "1.5.0",
            "value": " 4/4 [07:20&lt;00:00, 110.08s/it]",
            "_view_count": null,
            "_view_module_version": "1.5.0",
            "description_tooltip": null,
            "_model_module": "@jupyter-widgets/controls",
            "layout": "IPY_MODEL_27c5930155214cf9a8498b3d4a09ba72"
          }
        },
        "0caee22a61b54c63bb1e4ae45a58b62e": {
          "model_module": "@jupyter-widgets/controls",
          "model_name": "ProgressStyleModel",
          "state": {
            "_view_name": "StyleView",
            "_model_name": "ProgressStyleModel",
            "description_width": "initial",
            "_view_module": "@jupyter-widgets/base",
            "_model_module_version": "1.5.0",
            "_view_count": null,
            "_view_module_version": "1.2.0",
            "bar_color": null,
            "_model_module": "@jupyter-widgets/controls"
          }
        },
        "1048b1d45dbd4620889c4250e9ac8e5e": {
          "model_module": "@jupyter-widgets/base",
          "model_name": "LayoutModel",
          "state": {
            "_view_name": "LayoutView",
            "grid_template_rows": null,
            "right": null,
            "justify_content": null,
            "_view_module": "@jupyter-widgets/base",
            "overflow": null,
            "_model_module_version": "1.2.0",
            "_view_count": null,
            "flex_flow": null,
            "width": null,
            "min_width": null,
            "border": null,
            "align_items": null,
            "bottom": null,
            "_model_module": "@jupyter-widgets/base",
            "top": null,
            "grid_column": null,
            "overflow_y": null,
            "overflow_x": null,
            "grid_auto_flow": null,
            "grid_area": null,
            "grid_template_columns": null,
            "flex": null,
            "_model_name": "LayoutModel",
            "justify_items": null,
            "grid_row": null,
            "max_height": null,
            "align_content": null,
            "visibility": null,
            "align_self": null,
            "height": null,
            "min_height": null,
            "padding": null,
            "grid_auto_rows": null,
            "grid_gap": null,
            "max_width": null,
            "order": null,
            "_view_module_version": "1.2.0",
            "grid_template_areas": null,
            "object_position": null,
            "object_fit": null,
            "grid_auto_columns": null,
            "margin": null,
            "display": null,
            "left": null
          }
        },
        "df2ac8371edb46abb15ca22627a1f296": {
          "model_module": "@jupyter-widgets/controls",
          "model_name": "DescriptionStyleModel",
          "state": {
            "_view_name": "StyleView",
            "_model_name": "DescriptionStyleModel",
            "description_width": "",
            "_view_module": "@jupyter-widgets/base",
            "_model_module_version": "1.5.0",
            "_view_count": null,
            "_view_module_version": "1.2.0",
            "_model_module": "@jupyter-widgets/controls"
          }
        },
        "27c5930155214cf9a8498b3d4a09ba72": {
          "model_module": "@jupyter-widgets/base",
          "model_name": "LayoutModel",
          "state": {
            "_view_name": "LayoutView",
            "grid_template_rows": null,
            "right": null,
            "justify_content": null,
            "_view_module": "@jupyter-widgets/base",
            "overflow": null,
            "_model_module_version": "1.2.0",
            "_view_count": null,
            "flex_flow": null,
            "width": null,
            "min_width": null,
            "border": null,
            "align_items": null,
            "bottom": null,
            "_model_module": "@jupyter-widgets/base",
            "top": null,
            "grid_column": null,
            "overflow_y": null,
            "overflow_x": null,
            "grid_auto_flow": null,
            "grid_area": null,
            "grid_template_columns": null,
            "flex": null,
            "_model_name": "LayoutModel",
            "justify_items": null,
            "grid_row": null,
            "max_height": null,
            "align_content": null,
            "visibility": null,
            "align_self": null,
            "height": null,
            "min_height": null,
            "padding": null,
            "grid_auto_rows": null,
            "grid_gap": null,
            "max_width": null,
            "order": null,
            "_view_module_version": "1.2.0",
            "grid_template_areas": null,
            "object_position": null,
            "object_fit": null,
            "grid_auto_columns": null,
            "margin": null,
            "display": null,
            "left": null
          }
        },
        "fca7f779667848479a87e88d85ac5756": {
          "model_module": "@jupyter-widgets/controls",
          "model_name": "HBoxModel",
          "state": {
            "_view_name": "HBoxView",
            "_dom_classes": [],
            "_model_name": "HBoxModel",
            "_view_module": "@jupyter-widgets/controls",
            "_model_module_version": "1.5.0",
            "_view_count": null,
            "_view_module_version": "1.5.0",
            "box_style": "",
            "layout": "IPY_MODEL_2f7422ba71c94839ba1387ac0bc9c1b2",
            "_model_module": "@jupyter-widgets/controls",
            "children": [
              "IPY_MODEL_8ecf679a9ab74868bb540f2c18e47530",
              "IPY_MODEL_80bf156bd22b49108d166f5382cf070d"
            ]
          }
        },
        "2f7422ba71c94839ba1387ac0bc9c1b2": {
          "model_module": "@jupyter-widgets/base",
          "model_name": "LayoutModel",
          "state": {
            "_view_name": "LayoutView",
            "grid_template_rows": null,
            "right": null,
            "justify_content": null,
            "_view_module": "@jupyter-widgets/base",
            "overflow": null,
            "_model_module_version": "1.2.0",
            "_view_count": null,
            "flex_flow": null,
            "width": null,
            "min_width": null,
            "border": null,
            "align_items": null,
            "bottom": null,
            "_model_module": "@jupyter-widgets/base",
            "top": null,
            "grid_column": null,
            "overflow_y": null,
            "overflow_x": null,
            "grid_auto_flow": null,
            "grid_area": null,
            "grid_template_columns": null,
            "flex": null,
            "_model_name": "LayoutModel",
            "justify_items": null,
            "grid_row": null,
            "max_height": null,
            "align_content": null,
            "visibility": null,
            "align_self": null,
            "height": null,
            "min_height": null,
            "padding": null,
            "grid_auto_rows": null,
            "grid_gap": null,
            "max_width": null,
            "order": null,
            "_view_module_version": "1.2.0",
            "grid_template_areas": null,
            "object_position": null,
            "object_fit": null,
            "grid_auto_columns": null,
            "margin": null,
            "display": null,
            "left": null
          }
        },
        "8ecf679a9ab74868bb540f2c18e47530": {
          "model_module": "@jupyter-widgets/controls",
          "model_name": "FloatProgressModel",
          "state": {
            "_view_name": "ProgressView",
            "style": "IPY_MODEL_c78ab9beab1a42988fb09885e8bad4fc",
            "_dom_classes": [],
            "description": "100%",
            "_model_name": "FloatProgressModel",
            "bar_style": "success",
            "max": 3,
            "_view_module": "@jupyter-widgets/controls",
            "_model_module_version": "1.5.0",
            "value": 3,
            "_view_count": null,
            "_view_module_version": "1.5.0",
            "orientation": "horizontal",
            "min": 0,
            "description_tooltip": null,
            "_model_module": "@jupyter-widgets/controls",
            "layout": "IPY_MODEL_862a448257f34701aaede40f3ac9c553"
          }
        },
        "80bf156bd22b49108d166f5382cf070d": {
          "model_module": "@jupyter-widgets/controls",
          "model_name": "HTMLModel",
          "state": {
            "_view_name": "HTMLView",
            "style": "IPY_MODEL_214f4515988547e28cf78234052286da",
            "_dom_classes": [],
            "description": "",
            "_model_name": "HTMLModel",
            "placeholder": "​",
            "_view_module": "@jupyter-widgets/controls",
            "_model_module_version": "1.5.0",
            "value": " 3/3 [06:56&lt;00:00, 138.80s/it]",
            "_view_count": null,
            "_view_module_version": "1.5.0",
            "description_tooltip": null,
            "_model_module": "@jupyter-widgets/controls",
            "layout": "IPY_MODEL_901aa5f8de0345f2b644a0952664a09d"
          }
        },
        "c78ab9beab1a42988fb09885e8bad4fc": {
          "model_module": "@jupyter-widgets/controls",
          "model_name": "ProgressStyleModel",
          "state": {
            "_view_name": "StyleView",
            "_model_name": "ProgressStyleModel",
            "description_width": "initial",
            "_view_module": "@jupyter-widgets/base",
            "_model_module_version": "1.5.0",
            "_view_count": null,
            "_view_module_version": "1.2.0",
            "bar_color": null,
            "_model_module": "@jupyter-widgets/controls"
          }
        },
        "862a448257f34701aaede40f3ac9c553": {
          "model_module": "@jupyter-widgets/base",
          "model_name": "LayoutModel",
          "state": {
            "_view_name": "LayoutView",
            "grid_template_rows": null,
            "right": null,
            "justify_content": null,
            "_view_module": "@jupyter-widgets/base",
            "overflow": null,
            "_model_module_version": "1.2.0",
            "_view_count": null,
            "flex_flow": null,
            "width": null,
            "min_width": null,
            "border": null,
            "align_items": null,
            "bottom": null,
            "_model_module": "@jupyter-widgets/base",
            "top": null,
            "grid_column": null,
            "overflow_y": null,
            "overflow_x": null,
            "grid_auto_flow": null,
            "grid_area": null,
            "grid_template_columns": null,
            "flex": null,
            "_model_name": "LayoutModel",
            "justify_items": null,
            "grid_row": null,
            "max_height": null,
            "align_content": null,
            "visibility": null,
            "align_self": null,
            "height": null,
            "min_height": null,
            "padding": null,
            "grid_auto_rows": null,
            "grid_gap": null,
            "max_width": null,
            "order": null,
            "_view_module_version": "1.2.0",
            "grid_template_areas": null,
            "object_position": null,
            "object_fit": null,
            "grid_auto_columns": null,
            "margin": null,
            "display": null,
            "left": null
          }
        },
        "214f4515988547e28cf78234052286da": {
          "model_module": "@jupyter-widgets/controls",
          "model_name": "DescriptionStyleModel",
          "state": {
            "_view_name": "StyleView",
            "_model_name": "DescriptionStyleModel",
            "description_width": "",
            "_view_module": "@jupyter-widgets/base",
            "_model_module_version": "1.5.0",
            "_view_count": null,
            "_view_module_version": "1.2.0",
            "_model_module": "@jupyter-widgets/controls"
          }
        },
        "901aa5f8de0345f2b644a0952664a09d": {
          "model_module": "@jupyter-widgets/base",
          "model_name": "LayoutModel",
          "state": {
            "_view_name": "LayoutView",
            "grid_template_rows": null,
            "right": null,
            "justify_content": null,
            "_view_module": "@jupyter-widgets/base",
            "overflow": null,
            "_model_module_version": "1.2.0",
            "_view_count": null,
            "flex_flow": null,
            "width": null,
            "min_width": null,
            "border": null,
            "align_items": null,
            "bottom": null,
            "_model_module": "@jupyter-widgets/base",
            "top": null,
            "grid_column": null,
            "overflow_y": null,
            "overflow_x": null,
            "grid_auto_flow": null,
            "grid_area": null,
            "grid_template_columns": null,
            "flex": null,
            "_model_name": "LayoutModel",
            "justify_items": null,
            "grid_row": null,
            "max_height": null,
            "align_content": null,
            "visibility": null,
            "align_self": null,
            "height": null,
            "min_height": null,
            "padding": null,
            "grid_auto_rows": null,
            "grid_gap": null,
            "max_width": null,
            "order": null,
            "_view_module_version": "1.2.0",
            "grid_template_areas": null,
            "object_position": null,
            "object_fit": null,
            "grid_auto_columns": null,
            "margin": null,
            "display": null,
            "left": null
          }
        },
        "8d17b8e04d5b41dfb858c8aba62bcce4": {
          "model_module": "@jupyter-widgets/controls",
          "model_name": "HBoxModel",
          "state": {
            "_view_name": "HBoxView",
            "_dom_classes": [],
            "_model_name": "HBoxModel",
            "_view_module": "@jupyter-widgets/controls",
            "_model_module_version": "1.5.0",
            "_view_count": null,
            "_view_module_version": "1.5.0",
            "box_style": "",
            "layout": "IPY_MODEL_e0e3554034d64b8cadd37f57b33a214a",
            "_model_module": "@jupyter-widgets/controls",
            "children": [
              "IPY_MODEL_f922b12cfa334c498a522b7b04b60295",
              "IPY_MODEL_f62ce6641a7344bdaf77f0d02a95a5bc"
            ]
          }
        },
        "e0e3554034d64b8cadd37f57b33a214a": {
          "model_module": "@jupyter-widgets/base",
          "model_name": "LayoutModel",
          "state": {
            "_view_name": "LayoutView",
            "grid_template_rows": null,
            "right": null,
            "justify_content": null,
            "_view_module": "@jupyter-widgets/base",
            "overflow": null,
            "_model_module_version": "1.2.0",
            "_view_count": null,
            "flex_flow": null,
            "width": null,
            "min_width": null,
            "border": null,
            "align_items": null,
            "bottom": null,
            "_model_module": "@jupyter-widgets/base",
            "top": null,
            "grid_column": null,
            "overflow_y": null,
            "overflow_x": null,
            "grid_auto_flow": null,
            "grid_area": null,
            "grid_template_columns": null,
            "flex": null,
            "_model_name": "LayoutModel",
            "justify_items": null,
            "grid_row": null,
            "max_height": null,
            "align_content": null,
            "visibility": null,
            "align_self": null,
            "height": null,
            "min_height": null,
            "padding": null,
            "grid_auto_rows": null,
            "grid_gap": null,
            "max_width": null,
            "order": null,
            "_view_module_version": "1.2.0",
            "grid_template_areas": null,
            "object_position": null,
            "object_fit": null,
            "grid_auto_columns": null,
            "margin": null,
            "display": null,
            "left": null
          }
        },
        "f922b12cfa334c498a522b7b04b60295": {
          "model_module": "@jupyter-widgets/controls",
          "model_name": "FloatProgressModel",
          "state": {
            "_view_name": "ProgressView",
            "style": "IPY_MODEL_b4a8184f57de4fe59f1dcab98ab3dd70",
            "_dom_classes": [],
            "description": "100%",
            "_model_name": "FloatProgressModel",
            "bar_style": "success",
            "max": 2,
            "_view_module": "@jupyter-widgets/controls",
            "_model_module_version": "1.5.0",
            "value": 2,
            "_view_count": null,
            "_view_module_version": "1.5.0",
            "orientation": "horizontal",
            "min": 0,
            "description_tooltip": null,
            "_model_module": "@jupyter-widgets/controls",
            "layout": "IPY_MODEL_45fd8759cf1c4b69a1fb3837693655a4"
          }
        },
        "f62ce6641a7344bdaf77f0d02a95a5bc": {
          "model_module": "@jupyter-widgets/controls",
          "model_name": "HTMLModel",
          "state": {
            "_view_name": "HTMLView",
            "style": "IPY_MODEL_61063d64e6f1433b9e5575b7678c1291",
            "_dom_classes": [],
            "description": "",
            "_model_name": "HTMLModel",
            "placeholder": "​",
            "_view_module": "@jupyter-widgets/controls",
            "_model_module_version": "1.5.0",
            "value": " 2/2 [00:03&lt;00:00,  1.64s/it]",
            "_view_count": null,
            "_view_module_version": "1.5.0",
            "description_tooltip": null,
            "_model_module": "@jupyter-widgets/controls",
            "layout": "IPY_MODEL_30edbf05db5b461c9688483e11389e0b"
          }
        },
        "b4a8184f57de4fe59f1dcab98ab3dd70": {
          "model_module": "@jupyter-widgets/controls",
          "model_name": "ProgressStyleModel",
          "state": {
            "_view_name": "StyleView",
            "_model_name": "ProgressStyleModel",
            "description_width": "initial",
            "_view_module": "@jupyter-widgets/base",
            "_model_module_version": "1.5.0",
            "_view_count": null,
            "_view_module_version": "1.2.0",
            "bar_color": null,
            "_model_module": "@jupyter-widgets/controls"
          }
        },
        "45fd8759cf1c4b69a1fb3837693655a4": {
          "model_module": "@jupyter-widgets/base",
          "model_name": "LayoutModel",
          "state": {
            "_view_name": "LayoutView",
            "grid_template_rows": null,
            "right": null,
            "justify_content": null,
            "_view_module": "@jupyter-widgets/base",
            "overflow": null,
            "_model_module_version": "1.2.0",
            "_view_count": null,
            "flex_flow": null,
            "width": null,
            "min_width": null,
            "border": null,
            "align_items": null,
            "bottom": null,
            "_model_module": "@jupyter-widgets/base",
            "top": null,
            "grid_column": null,
            "overflow_y": null,
            "overflow_x": null,
            "grid_auto_flow": null,
            "grid_area": null,
            "grid_template_columns": null,
            "flex": null,
            "_model_name": "LayoutModel",
            "justify_items": null,
            "grid_row": null,
            "max_height": null,
            "align_content": null,
            "visibility": null,
            "align_self": null,
            "height": null,
            "min_height": null,
            "padding": null,
            "grid_auto_rows": null,
            "grid_gap": null,
            "max_width": null,
            "order": null,
            "_view_module_version": "1.2.0",
            "grid_template_areas": null,
            "object_position": null,
            "object_fit": null,
            "grid_auto_columns": null,
            "margin": null,
            "display": null,
            "left": null
          }
        },
        "61063d64e6f1433b9e5575b7678c1291": {
          "model_module": "@jupyter-widgets/controls",
          "model_name": "DescriptionStyleModel",
          "state": {
            "_view_name": "StyleView",
            "_model_name": "DescriptionStyleModel",
            "description_width": "",
            "_view_module": "@jupyter-widgets/base",
            "_model_module_version": "1.5.0",
            "_view_count": null,
            "_view_module_version": "1.2.0",
            "_model_module": "@jupyter-widgets/controls"
          }
        },
        "30edbf05db5b461c9688483e11389e0b": {
          "model_module": "@jupyter-widgets/base",
          "model_name": "LayoutModel",
          "state": {
            "_view_name": "LayoutView",
            "grid_template_rows": null,
            "right": null,
            "justify_content": null,
            "_view_module": "@jupyter-widgets/base",
            "overflow": null,
            "_model_module_version": "1.2.0",
            "_view_count": null,
            "flex_flow": null,
            "width": null,
            "min_width": null,
            "border": null,
            "align_items": null,
            "bottom": null,
            "_model_module": "@jupyter-widgets/base",
            "top": null,
            "grid_column": null,
            "overflow_y": null,
            "overflow_x": null,
            "grid_auto_flow": null,
            "grid_area": null,
            "grid_template_columns": null,
            "flex": null,
            "_model_name": "LayoutModel",
            "justify_items": null,
            "grid_row": null,
            "max_height": null,
            "align_content": null,
            "visibility": null,
            "align_self": null,
            "height": null,
            "min_height": null,
            "padding": null,
            "grid_auto_rows": null,
            "grid_gap": null,
            "max_width": null,
            "order": null,
            "_view_module_version": "1.2.0",
            "grid_template_areas": null,
            "object_position": null,
            "object_fit": null,
            "grid_auto_columns": null,
            "margin": null,
            "display": null,
            "left": null
          }
        },
        "ac6f4d23568340c1892183e7c3a99db1": {
          "model_module": "@jupyter-widgets/controls",
          "model_name": "HBoxModel",
          "state": {
            "_view_name": "HBoxView",
            "_dom_classes": [],
            "_model_name": "HBoxModel",
            "_view_module": "@jupyter-widgets/controls",
            "_model_module_version": "1.5.0",
            "_view_count": null,
            "_view_module_version": "1.5.0",
            "box_style": "",
            "layout": "IPY_MODEL_32cb1d371d7747878f97dc0116b7dbd2",
            "_model_module": "@jupyter-widgets/controls",
            "children": [
              "IPY_MODEL_24911d906a9245b2bdc05838e308890b",
              "IPY_MODEL_750bce6fe90c45f7b59c8452b9cda9dd"
            ]
          }
        },
        "32cb1d371d7747878f97dc0116b7dbd2": {
          "model_module": "@jupyter-widgets/base",
          "model_name": "LayoutModel",
          "state": {
            "_view_name": "LayoutView",
            "grid_template_rows": null,
            "right": null,
            "justify_content": null,
            "_view_module": "@jupyter-widgets/base",
            "overflow": null,
            "_model_module_version": "1.2.0",
            "_view_count": null,
            "flex_flow": null,
            "width": null,
            "min_width": null,
            "border": null,
            "align_items": null,
            "bottom": null,
            "_model_module": "@jupyter-widgets/base",
            "top": null,
            "grid_column": null,
            "overflow_y": null,
            "overflow_x": null,
            "grid_auto_flow": null,
            "grid_area": null,
            "grid_template_columns": null,
            "flex": null,
            "_model_name": "LayoutModel",
            "justify_items": null,
            "grid_row": null,
            "max_height": null,
            "align_content": null,
            "visibility": null,
            "align_self": null,
            "height": null,
            "min_height": null,
            "padding": null,
            "grid_auto_rows": null,
            "grid_gap": null,
            "max_width": null,
            "order": null,
            "_view_module_version": "1.2.0",
            "grid_template_areas": null,
            "object_position": null,
            "object_fit": null,
            "grid_auto_columns": null,
            "margin": null,
            "display": null,
            "left": null
          }
        },
        "24911d906a9245b2bdc05838e308890b": {
          "model_module": "@jupyter-widgets/controls",
          "model_name": "FloatProgressModel",
          "state": {
            "_view_name": "ProgressView",
            "style": "IPY_MODEL_8d12cdf5971243408f42057cda879e6e",
            "_dom_classes": [],
            "description": "100%",
            "_model_name": "FloatProgressModel",
            "bar_style": "success",
            "max": 2,
            "_view_module": "@jupyter-widgets/controls",
            "_model_module_version": "1.5.0",
            "value": 2,
            "_view_count": null,
            "_view_module_version": "1.5.0",
            "orientation": "horizontal",
            "min": 0,
            "description_tooltip": null,
            "_model_module": "@jupyter-widgets/controls",
            "layout": "IPY_MODEL_5ad1516546b84e0c98e80e2cc7f07142"
          }
        },
        "750bce6fe90c45f7b59c8452b9cda9dd": {
          "model_module": "@jupyter-widgets/controls",
          "model_name": "HTMLModel",
          "state": {
            "_view_name": "HTMLView",
            "style": "IPY_MODEL_f825a9c974e3472ca56eb8da208dadca",
            "_dom_classes": [],
            "description": "",
            "_model_name": "HTMLModel",
            "placeholder": "​",
            "_view_module": "@jupyter-widgets/controls",
            "_model_module_version": "1.5.0",
            "value": " 2/2 [06:51&lt;00:00, 205.75s/it]",
            "_view_count": null,
            "_view_module_version": "1.5.0",
            "description_tooltip": null,
            "_model_module": "@jupyter-widgets/controls",
            "layout": "IPY_MODEL_f477f8c6d73a4acd830da1c58fee16f0"
          }
        },
        "8d12cdf5971243408f42057cda879e6e": {
          "model_module": "@jupyter-widgets/controls",
          "model_name": "ProgressStyleModel",
          "state": {
            "_view_name": "StyleView",
            "_model_name": "ProgressStyleModel",
            "description_width": "initial",
            "_view_module": "@jupyter-widgets/base",
            "_model_module_version": "1.5.0",
            "_view_count": null,
            "_view_module_version": "1.2.0",
            "bar_color": null,
            "_model_module": "@jupyter-widgets/controls"
          }
        },
        "5ad1516546b84e0c98e80e2cc7f07142": {
          "model_module": "@jupyter-widgets/base",
          "model_name": "LayoutModel",
          "state": {
            "_view_name": "LayoutView",
            "grid_template_rows": null,
            "right": null,
            "justify_content": null,
            "_view_module": "@jupyter-widgets/base",
            "overflow": null,
            "_model_module_version": "1.2.0",
            "_view_count": null,
            "flex_flow": null,
            "width": null,
            "min_width": null,
            "border": null,
            "align_items": null,
            "bottom": null,
            "_model_module": "@jupyter-widgets/base",
            "top": null,
            "grid_column": null,
            "overflow_y": null,
            "overflow_x": null,
            "grid_auto_flow": null,
            "grid_area": null,
            "grid_template_columns": null,
            "flex": null,
            "_model_name": "LayoutModel",
            "justify_items": null,
            "grid_row": null,
            "max_height": null,
            "align_content": null,
            "visibility": null,
            "align_self": null,
            "height": null,
            "min_height": null,
            "padding": null,
            "grid_auto_rows": null,
            "grid_gap": null,
            "max_width": null,
            "order": null,
            "_view_module_version": "1.2.0",
            "grid_template_areas": null,
            "object_position": null,
            "object_fit": null,
            "grid_auto_columns": null,
            "margin": null,
            "display": null,
            "left": null
          }
        },
        "f825a9c974e3472ca56eb8da208dadca": {
          "model_module": "@jupyter-widgets/controls",
          "model_name": "DescriptionStyleModel",
          "state": {
            "_view_name": "StyleView",
            "_model_name": "DescriptionStyleModel",
            "description_width": "",
            "_view_module": "@jupyter-widgets/base",
            "_model_module_version": "1.5.0",
            "_view_count": null,
            "_view_module_version": "1.2.0",
            "_model_module": "@jupyter-widgets/controls"
          }
        },
        "f477f8c6d73a4acd830da1c58fee16f0": {
          "model_module": "@jupyter-widgets/base",
          "model_name": "LayoutModel",
          "state": {
            "_view_name": "LayoutView",
            "grid_template_rows": null,
            "right": null,
            "justify_content": null,
            "_view_module": "@jupyter-widgets/base",
            "overflow": null,
            "_model_module_version": "1.2.0",
            "_view_count": null,
            "flex_flow": null,
            "width": null,
            "min_width": null,
            "border": null,
            "align_items": null,
            "bottom": null,
            "_model_module": "@jupyter-widgets/base",
            "top": null,
            "grid_column": null,
            "overflow_y": null,
            "overflow_x": null,
            "grid_auto_flow": null,
            "grid_area": null,
            "grid_template_columns": null,
            "flex": null,
            "_model_name": "LayoutModel",
            "justify_items": null,
            "grid_row": null,
            "max_height": null,
            "align_content": null,
            "visibility": null,
            "align_self": null,
            "height": null,
            "min_height": null,
            "padding": null,
            "grid_auto_rows": null,
            "grid_gap": null,
            "max_width": null,
            "order": null,
            "_view_module_version": "1.2.0",
            "grid_template_areas": null,
            "object_position": null,
            "object_fit": null,
            "grid_auto_columns": null,
            "margin": null,
            "display": null,
            "left": null
          }
        }
      }
    }
  },
  "cells": [
    {
      "cell_type": "code",
      "metadata": {
        "id": "L3oPI89K6ySB",
        "colab_type": "code",
        "colab": {}
      },
      "source": [
        "import pandas as pd\n",
        "import numpy as np\n",
        "import matplotlib.pyplot as plt\n",
        "import copy\n",
        "import networkx as nx\n",
        "from tqdm.notebook import tqdm\n",
        "\n",
        "class Graph(object):\n",
        "    def __init__(self, Matrix, add_edge=None, add_node=None):\n",
        "        self.Matrix = Matrix\n",
        "        self.nodenum = len(self.Matrix)\n",
        "        self.edgenum = self.get_edgenum()\n",
        "        self._weight_ = np.zeros((self.nodenum, self.nodenum))\n",
        "        self.add_edge = add_edge\n",
        "        self.add_node = add_node\n",
        "\n",
        "    def get_edgenum(self):\n",
        "        count = 0\n",
        "        for i in range(self.nodenum):\n",
        "            for j in range(i):\n",
        "                if self.Matrix[i][j] > 0 and self.Matrix[i][j] < 9999:\n",
        "                    count += 1\n",
        "        return count\n",
        "\n",
        "    def plot_matrix(self, pos=None, figsize=(15,15), title=\"Pipeline ONE\"):\n",
        "        plt.figure(figsize=(12,9)) \n",
        "        self._get_edge()\n",
        "        G_nx = nx.Graph()\n",
        "        G_nx2 = nx.Graph()\n",
        "        if self.add_edge!=None:\n",
        "          for i in range(self.nodenum):\n",
        "              for j in range(self.nodenum):\n",
        "                  if self._weight_[i, j]!=0 and i<13 and j<13:\n",
        "                    G_nx.add_edge(i, j)\n",
        "                  if self._weight_[i, j]!=0 and i>0 and j>0:\n",
        "                    G_nx2.add_edge(i, j)\n",
        "        else:\n",
        "          for i in range(self.nodenum):\n",
        "              for j in range(self.nodenum):\n",
        "                  if self._weight_[i, j]!= 0:\n",
        "                      G_nx.add_edge(i, j)\n",
        "                    \n",
        "        if self.add_edge!=None:\n",
        "          nx.draw_networkx(G_nx, pos[:len(self.add_edge)+1], alpha=0.85)\n",
        "          nx.draw_networkx(G_nx2,pos,alpha=0.6,with_labels=False,node_color='slateblue',\n",
        "              node_shape=\".\", node_size=100, style='dashed')\n",
        "        else:\n",
        "          nx.draw_networkx(G_nx, pos, alpha=0.85)\n",
        "        GG = nx.Graph()\n",
        "        GG.add_node(0)\n",
        "        nx.draw_networkx(GG, {0:pos[0]}, node_color='r',node_shape='*', node_size=1200)\n",
        "        plt.title(title)\n",
        "        plt.show() # display\n",
        "    \n",
        "    def _get_edge(self):\n",
        "      edge = self.prim()\n",
        "      if self.add_node!=None:\n",
        "        for i in edge:\n",
        "          for id_j, j in enumerate(self.add_node):\n",
        "            if i[0]==j:\n",
        "              i[0] = 13+id_j\n",
        "            if i[1]==j:\n",
        "              i[1] = 13+id_j\n",
        "      for k in edge:\n",
        "        self._weight_[k[0],k[1]] = self.Matrix[k[0],k[1]]\n",
        "      if self.add_node!=None:\n",
        "        for i in edge:\n",
        "          for id_j, j in enumerate(self.add_node):\n",
        "            if i[0]==13+id_j:\n",
        "              i[0] = j\n",
        "            if i[1]==13+id_j:\n",
        "              i[1] = j\n",
        "      return self._weight_\n",
        "\n",
        "    def prim(self, first_node = 0):\n",
        "        # 存储已选顶点，初始化时可随机选择一个起点\n",
        "        select = [first_node]\n",
        "        # 存储未选顶点\n",
        "        candidate = list(range(0, self.nodenum))\n",
        "        candidate.remove(first_node)\n",
        "        if self.add_edge!=None:\n",
        "          node = []\n",
        "          select.remove(first_node)\n",
        "          for i in self.add_edge:\n",
        "            if i[0] not in node:\n",
        "              node.append(i[0])\n",
        "            if i[1] not in node:\n",
        "              node.append(i[1]) \n",
        "          for i in node:\n",
        "            select.append(i)\n",
        "            if i in candidate:\n",
        "              candidate.remove(i)\n",
        "        # 存储每次搜索到的最小生成树的边\n",
        "        edge = []+self.add_edge if self.add_edge!=None else []\n",
        "\n",
        "        def min_edge(select, candidate, graph):\n",
        "            min_weight = np.inf\n",
        "            v, u = 0, 0\n",
        "            for i in select:\n",
        "                for j in candidate:\n",
        "                    if min_weight > graph[i][j]:\n",
        "                        min_weight = graph[i][j]\n",
        "                        v, u = i, j\n",
        "            return v, u\n",
        "\n",
        "        num = len(self.add_edge)+1 if self.add_edge!=None else 1\n",
        "        for i in range(num, self.nodenum):\n",
        "            v, u = min_edge(select, candidate, self.Matrix)\n",
        "            edge.append([v, u])\n",
        "            select.append(u)\n",
        "            candidate.remove(u)\n",
        "        if self.add_node!=None:\n",
        "          for i in edge:\n",
        "            for id_j, j in enumerate(self.add_node):\n",
        "              if i[0]==13+id_j:\n",
        "                i[0] = j\n",
        "              if i[1]==13+id_j:\n",
        "                i[1] = j\n",
        "        return edge"
      ],
      "execution_count": 1,
      "outputs": []
    },
    {
      "cell_type": "code",
      "metadata": {
        "id": "c6w7fPKGdEau",
        "colab_type": "code",
        "colab": {}
      },
      "source": [
        "def distance(x1,y1,x2,y2):\n",
        "  return np.sqrt((x1-x2)**2+(y1-y2)**2)\n",
        "\n",
        "def fix(x):\n",
        "  if x.startswith('A'):\n",
        "    return 0\n",
        "  return 1 if x.startswith('V') else 2\n",
        "\n",
        "def get_xy(i,j=0, add_node = None):\n",
        "  pos = []   # 元组中的两个数字是第i（从0开始计数）个点的坐标\n",
        "  if add_node==None:\n",
        "    for k in range(j, i):\n",
        "      pos.append((data['X坐标'].loc[k], data['Y坐标'].loc[k]))\n",
        "  else:\n",
        "    for k in range(j, i):\n",
        "      pos.append((data['X坐标'].loc[k], data['Y坐标'].loc[k]))\n",
        "    for k in add_node:\n",
        "      pos.append((data['X坐标'].loc[k], data['Y坐标'].loc[k]))\n",
        "  return pos"
      ],
      "execution_count": 2,
      "outputs": []
    },
    {
      "cell_type": "code",
      "metadata": {
        "id": "h2NlSeAReaLq",
        "colab_type": "code",
        "colab": {
          "base_uri": "https://localhost:8080/",
          "height": 66,
          "referenced_widgets": [
            "808dd9da0ca34c1d9ad82e1729fc9334",
            "1f021efb6ba84b368bb70c36b88a2e75",
            "59f9c8a619f04c5c878c0e0cf700003c",
            "1af51246e9634c5cb79c35a98403db1b",
            "211186aec7ea45889cbd304a7ec0f17c",
            "b37e22bdbb4e4f1aac85e4cc20c87cdc",
            "50539b2539eb49e9b0236c95ddc09299",
            "e92fe4ff298945538d727c728cd2ac22"
          ]
        },
        "outputId": "9d37fdee-639a-4156-bf2a-ef6beccc7b25"
      },
      "source": [
        "weight_array = np.zeros((181,181))\n",
        "data = pd.read_excel('/content/drive/My Drive/competitions/CMCM/demo1/data.xlsx')\n",
        "data['类型'] = data['类型'].apply(lambda x:fix(x))\n",
        "\n",
        "# 初始化权重矩阵\n",
        "for i in tqdm(range(181)):\n",
        "  for j in range(181):\n",
        "    point_i = data[data['序号']==i]\n",
        "    point_j = data[data['序号']==j]\n",
        "    weight_array[i][j] = distance(point_i['X坐标'].values,\n",
        "                    point_i['Y坐标'].values,\n",
        "                    point_j['X坐标'].values,\n",
        "                    point_j['Y坐标'].values)\n",
        "    if (i==0 and j>12) or (j==0 and i>12):\n",
        "      weight_array[i][j]=0\n",
        "weight_array[weight_array==0] = 10000"
      ],
      "execution_count": 3,
      "outputs": [
        {
          "output_type": "display_data",
          "data": {
            "application/vnd.jupyter.widget-view+json": {
              "model_id": "808dd9da0ca34c1d9ad82e1729fc9334",
              "version_minor": 0,
              "version_major": 2
            },
            "text/plain": [
              "HBox(children=(FloatProgress(value=0.0, max=181.0), HTML(value='')))"
            ]
          },
          "metadata": {
            "tags": []
          }
        },
        {
          "output_type": "stream",
          "text": [
            "\n"
          ],
          "name": "stdout"
        }
      ]
    },
    {
      "cell_type": "code",
      "metadata": {
        "id": "vdx9U4OYfoGG",
        "colab_type": "code",
        "colab": {
          "base_uri": "https://localhost:8080/",
          "height": 536
        },
        "outputId": "575c1aea-8476-4573-dbfb-153302e509e8"
      },
      "source": [
        "weight_array_A = weight_array[:13,:13]\n",
        "G_A = Graph(weight_array_A)\n",
        "pos_A = get_xy(G_A.nodenum)\n",
        "edge_A = G_A.prim(first_node=0)\n",
        "G_A.plot_matrix(pos_A)"
      ],
      "execution_count": 4,
      "outputs": [
        {
          "output_type": "display_data",
          "data": {
            "image/png": "[encoded data removed]",
            "text/plain": [
              "<Figure size 864x648 with 1 Axes>"
            ]
          },
          "metadata": {
            "tags": []
          }
        }
      ]
    },
    {
      "cell_type": "code",
      "metadata": {
        "id": "rPh-2LyIDGQO",
        "colab_type": "code",
        "colab": {
          "base_uri": "https://localhost:8080/",
          "height": 34
        },
        "outputId": "f13f9b85-7383-49b1-d198-4e7a1a6861ca"
      },
      "source": [
        "sum = 0\n",
        "for p in edge_A:\n",
        "  i,j=p[0],p[1]\n",
        "  sum = sum+weight_array[i][j]\n",
        "sum"
      ],
      "execution_count": 5,
      "outputs": [
        {
          "output_type": "execute_result",
          "data": {
            "text/plain": [
              "120.94121490556834"
            ]
          },
          "metadata": {
            "tags": []
          },
          "execution_count": 5
        }
      ]
    },
    {
      "cell_type": "code",
      "metadata": {
        "id": "75CZBi556z19",
        "colab_type": "code",
        "colab": {
          "base_uri": "https://localhost:8080/",
          "height": 570
        },
        "outputId": "27d35055-8f29-446e-deeb-7e59f5390b91"
      },
      "source": [
        "G = Graph(weight_array, edge_A)\n",
        "print('节点数据为%d，边数为%d\\n'%(G.nodenum, G.edgenum))\n",
        "pos = get_xy(G.nodenum)\n",
        "edge = G.prim()\n",
        "G.plot_matrix(pos, title=\"Pipeline TWO\")"
      ],
      "execution_count": 6,
      "outputs": [
        {
          "output_type": "stream",
          "text": [
            "节点数据为181，边数为16122\n",
            "\n"
          ],
          "name": "stdout"
        },
        {
          "output_type": "display_data",
          "data": {
            "image/png": "[encoded data removed]",
            "text/plain": [
              "<Figure size 864x648 with 1 Axes>"
            ]
          },
          "metadata": {
            "tags": []
          }
        }
      ]
    },
    {
      "cell_type": "code",
      "metadata": {
        "id": "Bb8N519Ugy59",
        "colab_type": "code",
        "colab": {
          "base_uri": "https://localhost:8080/",
          "height": 34
        },
        "outputId": "50655c38-8219-4f55-b1df-ef1d1d5f395a"
      },
      "source": [
        "sum = 0\n",
        "for p in edge:\n",
        "  i,j=p[0],p[1]\n",
        "  sum = sum+weight_array[i][j]\n",
        "sum"
      ],
      "execution_count": 7,
      "outputs": [
        {
          "output_type": "execute_result",
          "data": {
            "text/plain": [
              "524.3458156290326"
            ]
          },
          "metadata": {
            "tags": []
          },
          "execution_count": 7
        }
      ]
    },
    {
      "cell_type": "code",
      "metadata": {
        "id": "9nBgPw02DdaQ",
        "colab_type": "code",
        "colab": {
          "base_uri": "https://localhost:8080/",
          "height": 34
        },
        "outputId": "ac0370aa-316e-418f-ab7b-98fb53d93686"
      },
      "source": [
        "_max = (0,0,0)\n",
        "_max2 = (0,0,0)\n",
        "for ed in edge:\n",
        "  i,j = ed[0],ed[1]\n",
        "  if _max[0] < weight_array[i][j] and not (i<13 and j<13):\n",
        "    _max = (weight_array[i][j], i, j)\n",
        "for ed in edge:\n",
        "  i,j = ed[0],ed[1]\n",
        "  if i!=126 and j!=125:\n",
        "    if _max2[0] < weight_array[i][j] and not (i<13 and j<13):\n",
        "      _max2 = (weight_array[i][j], i, j)\n",
        "  \n",
        "_max, _max2"
      ],
      "execution_count": 8,
      "outputs": [
        {
          "output_type": "execute_result",
          "data": {
            "text/plain": [
              "((6.4031242374328485, 126, 125), (5.0, 88, 89))"
            ]
          },
          "metadata": {
            "tags": []
          },
          "execution_count": 8
        }
      ]
    },
    {
      "cell_type": "code",
      "metadata": {
        "id": "OUhE6zykBgKm",
        "colab_type": "code",
        "colab": {
          "base_uri": "https://localhost:8080/",
          "height": 536
        },
        "outputId": "32d54787-6d50-410e-c80b-e444e33acaa3"
      },
      "source": [
        "_weight_ = G._get_edge()\n",
        "plt.figure(figsize=(12,9)) \n",
        "G_nx = nx.Graph()\n",
        "G_nx2 = nx.Graph()\n",
        "G_nx3 = nx.Graph()\n",
        "G_nx4 = nx.Graph()\n",
        "GG = nx.Graph()\n",
        "for i in range(G.nodenum):\n",
        "    for j in range(G.nodenum):\n",
        "        if _weight_[i, j]!=0 and i<13 and j<13:\n",
        "          G_nx.add_edge(i, j)\n",
        "        if _weight_[i, j]!=0 and i>0 and j>0:\n",
        "          G_nx2.add_edge(i, j)\n",
        "# G_nx3.add_edge(126, 125)\n",
        "# G_nx4.add_edge(88, 89)\n",
        "G_nx3.add_node(125)\n",
        "G_nx4.add_node(89)\n",
        "\n",
        "nx.draw_networkx(G_nx3, {125:pos[125],},node_color='r',\n",
        "      node_size=300, node_shape='.',with_labels=False, style='dashed')\n",
        "nx.draw_networkx(G_nx4, {89:pos[89],},node_color='r',\n",
        "      node_size=300, node_shape='.',with_labels=False, style='dashed')\n",
        "\n",
        "nx.draw_networkx(G_nx, pos[:len(G.add_edge)+1], alpha=0.85)\n",
        "nx.draw_networkx(G_nx2,pos,alpha=0.6,with_labels=False,node_color='slateblue',\n",
        "    node_shape=\".\", node_size=100, style='dashed')\n",
        "GG = nx.Graph()\n",
        "GG.add_node(0)\n",
        "nx.draw_networkx(GG, {0:pos[0]}, node_color='r',node_shape='*', node_size=1200)\n",
        "\n",
        "plt.title(\"Upgrade Two Secondary Pipes\")\n",
        "plt.show() "
      ],
      "execution_count": 9,
      "outputs": [
        {
          "output_type": "display_data",
          "data": {
            "image/png": "[encoded data removed]",
            "text/plain": [
              "<Figure size 864x648 with 1 Axes>"
            ]
          },
          "metadata": {
            "tags": []
          }
        }
      ]
    },
    {
      "cell_type": "markdown",
      "metadata": {
        "id": "o9SMq2m5_vPH",
        "colab_type": "text"
      },
      "source": [
        "# 问题三"
      ]
    },
    {
      "cell_type": "code",
      "metadata": {
        "id": "P3yusrnmq-SP",
        "colab_type": "code",
        "colab": {}
      },
      "source": [
        "def prim_pro(Matrix, add_edge, first_node=0, cost=40):\n",
        "    nodenum = len(Matrix)\n",
        "\n",
        "    select = [first_node]\n",
        "    candidate = list(range(0, nodenum))\n",
        "    candidate.remove(first_node)\n",
        "    node = []\n",
        "    for i in add_edge:\n",
        "      if i[0] not in node:\n",
        "        node.append(i[0])\n",
        "      if i[1] not in node:\n",
        "        node.append(i[1]) \n",
        "    node_A = {}\n",
        "    for i in node:\n",
        "      node_A[i] = [0,[i]]  # 存储形式是[dis, [v,u1,u2...]]\n",
        "    for i in node:\n",
        "      select.append(i)\n",
        "      if i in candidate:\n",
        "        candidate.remove(i)\n",
        "    # 存储每次搜索到的最小生成树的边\n",
        "    edge = []+add_edge\n",
        "    loss = []\n",
        "    def min_edge(select, candidate, graph):\n",
        "      min_weight = np.inf\n",
        "      v, u = 0, 0\n",
        "      for i in select:\n",
        "          for j in candidate:\n",
        "              if min_weight > graph[i][j] and (i,j) not in loss:\n",
        "                  min_weight = graph[i][j]\n",
        "                  v, u = i, j\n",
        "      for x in node:\n",
        "        if v in node_A[x][1]:\n",
        "          if node_A[x][0]+min_weight<=cost:\n",
        "            node_A[x][0] = node_A[x][0]+min_weight\n",
        "            node_A[x][1].append(u)\n",
        "          else:\n",
        "            loss.append((v,u))\n",
        "            return False, v, u\n",
        "      return True, v, u\n",
        "\n",
        "    num = len(add_edge)+1\n",
        "    test = 0\n",
        "    while test<num*(nodenum-num):\n",
        "        flag, v, u = min_edge(select, candidate, Matrix)\n",
        "        if flag:\n",
        "          edge.append([v, u])\n",
        "          select.append(u)\n",
        "          candidate.remove(u)\n",
        "        else:\n",
        "          test = test+1\n",
        "    return edge, candidate, node_A"
      ],
      "execution_count": 10,
      "outputs": []
    },
    {
      "cell_type": "code",
      "metadata": {
        "id": "HanBxiWyo0TT",
        "colab_type": "code",
        "colab": {
          "base_uri": "https://localhost:8080/",
          "height": 66,
          "referenced_widgets": [
            "61b8c50c0d3d4a868ec12e48a7882cc4",
            "2191708bcad748a79a0ba62f2c5374ce",
            "61085af8972646179fc919b7b07d9d8f",
            "19d85fe55a3142a6b2e9b9d2f70c5645",
            "8a86c0ed67a64948b7e699ae9aa4f096",
            "22f242d204c548e4a5a2324b197718f7",
            "18c5ecbef07c479b9c78ce8c38585aff",
            "f0569656d66f48b5afabae8eaf7289e5"
          ]
        },
        "outputId": "5488d6b9-9dfc-4573-d7eb-c696014a2b56"
      },
      "source": [
        "dis_min = 10000\n",
        "dis_e = []\n",
        "sss = 0\n",
        "for i in tqdm(range(168)):\n",
        "  _edge_A = edge_A.copy()\n",
        "  x = i+13\n",
        "  _min = 10000\n",
        "  v,u = 0,0\n",
        "  for j in range(13):\n",
        "    if weight_array[x][j]<_min:\n",
        "      _min = weight_array[x][j]\n",
        "      v,u = j,x\n",
        "  _edge_A.append([v,u])\n",
        "  e, c, node_A_ = prim_pro(weight_array, _edge_A, cost=40)\n",
        "  sum = 0\n",
        "  for iii in node_A_:\n",
        "    sum = sum+node_A_[iii][0]\n",
        "  if dis_min>sum:\n",
        "    dis_min = sum\n",
        "    dis_e = e\n",
        "    sss = x"
      ],
      "execution_count": 103,
      "outputs": [
        {
          "output_type": "display_data",
          "data": {
            "application/vnd.jupyter.widget-view+json": {
              "model_id": "61b8c50c0d3d4a868ec12e48a7882cc4",
              "version_minor": 0,
              "version_major": 2
            },
            "text/plain": [
              "HBox(children=(FloatProgress(value=0.0, max=168.0), HTML(value='')))"
            ]
          },
          "metadata": {
            "tags": []
          }
        },
        {
          "output_type": "stream",
          "text": [
            "\n"
          ],
          "name": "stdout"
        }
      ]
    },
    {
      "cell_type": "code",
      "metadata": {
        "id": "le9AuNJbq4I5",
        "colab_type": "code",
        "colab": {
          "base_uri": "https://localhost:8080/",
          "height": 34
        },
        "outputId": "8cbcc726-ead1-4b76-96ff-f37b610a81b7"
      },
      "source": [
        "sss"
      ],
      "execution_count": 105,
      "outputs": [
        {
          "output_type": "execute_result",
          "data": {
            "text/plain": [
              "41"
            ]
          },
          "metadata": {
            "tags": []
          },
          "execution_count": 105
        }
      ]
    },
    {
      "cell_type": "code",
      "metadata": {
        "id": "kml37tQyri1A",
        "colab_type": "code",
        "colab": {}
      },
      "source": [
        "node_A_"
      ],
      "execution_count": null,
      "outputs": []
    },
    {
      "cell_type": "code",
      "metadata": {
        "id": "FVyU6o-4rixn",
        "colab_type": "code",
        "colab": {}
      },
      "source": [
        ""
      ],
      "execution_count": 13,
      "outputs": []
    },
    {
      "cell_type": "code",
      "metadata": {
        "id": "LfXXjRZsrisa",
        "colab_type": "code",
        "colab": {}
      },
      "source": [
        "mat_40 = [1,1,1,1,1,1,1,1,1,1]\n",
        "mat_35 = [9,8,7,7,7,7,7,7,7,7]\n",
        "mat_30 = [17,14,13,13,11,11,11,11,11,11,]\n",
        "mat_25 = [32,29,27,24,22,22,20,20,20,20]\n",
        "x = list(range(1,11))"
      ],
      "execution_count": 96,
      "outputs": []
    },
    {
      "cell_type": "code",
      "metadata": {
        "id": "bZRy1PikrivR",
        "colab_type": "code",
        "colab": {
          "base_uri": "https://localhost:8080/",
          "height": 551
        },
        "outputId": "b02b5afd-240a-4f0c-e538-25dc5dbff757"
      },
      "source": [
        "plt.figure(figsize=(12,9)) \n",
        "\n",
        "plt.plot(x, mat_40, marker='.', ms=10,label='40km')\n",
        "plt.plot(x, mat_35, marker=',', ms=10,label='35km')\n",
        "plt.plot(x, mat_30, marker='o', ms=10,label='30km')\n",
        "plt.plot(x, mat_25, marker='*', ms=10,label='25km')\n",
        "plt.legend()  # 让图例生效\n",
        "plt.ylabel('Minimal upgrade pipe') #X轴标签\n",
        "plt.xlabel('the number of iterations') #X轴标签\n",
        "\n",
        "plt.show()"
      ],
      "execution_count": 102,
      "outputs": [
        {
          "output_type": "display_data",
          "data": {
            "image/png": "[encoded data removed]",
            "text/plain": [
              "<Figure size 864x648 with 1 Axes>"
            ]
          },
          "metadata": {
            "tags": [],
            "needs_background": "light"
          }
        }
      ]
    },
    {
      "cell_type": "code",
      "metadata": {
        "id": "K4AAYaHsrYuv",
        "colab_type": "code",
        "colab": {}
      },
      "source": [
        ""
      ],
      "execution_count": 14,
      "outputs": []
    },
    {
      "cell_type": "code",
      "metadata": {
        "id": "LJIatCvyNZEq",
        "colab_type": "code",
        "colab": {}
      },
      "source": [
        "COST = 40"
      ],
      "execution_count": 109,
      "outputs": []
    },
    {
      "cell_type": "code",
      "metadata": {
        "id": "RuTmT0nRO5mG",
        "colab_type": "code",
        "colab": {
          "base_uri": "https://localhost:8080/",
          "height": 34
        },
        "outputId": "3330c34c-9008-4462-91db-2cb343d97762"
      },
      "source": [
        "e, c, node_A = prim_pro(weight_array, edge_A, cost=COST)\n",
        "_size = len(c)\n",
        "_size#, cnode_A"
      ],
      "execution_count": 110,
      "outputs": [
        {
          "output_type": "execute_result",
          "data": {
            "text/plain": [
              "2"
            ]
          },
          "metadata": {
            "tags": []
          },
          "execution_count": 110
        }
      ]
    },
    {
      "cell_type": "code",
      "metadata": {
        "id": "UJtO-kBVfA5G",
        "colab_type": "code",
        "colab": {
          "base_uri": "https://localhost:8080/",
          "height": 1000
        },
        "outputId": "8b49ac04-5f79-4199-f5c7-fdccf6d0eb26"
      },
      "source": [
        "node_A"
      ],
      "execution_count": 112,
      "outputs": [
        {
          "output_type": "execute_result",
          "data": {
            "text/plain": [
              "{0: [0, [0]],\n",
              " 1: [38.957577257143065,\n",
              "  [1, 96, 97, 107, 105, 145, 91, 90, 110, 103, 92, 108, 106, 93, 109, 94, 95]],\n",
              " 2: [17.289473754805524, [2, 127, 126, 38, 36, 125]],\n",
              " 3: [28.79898987322333, [3, 104, 102, 98, 71]],\n",
              " 4: [37.527335842160134,\n",
              "  [4, 73, 78, 42, 76, 83, 82, 55, 79, 80, 81, 54, 88, 41, 74, 111]],\n",
              " 5: [39.263579932622584,\n",
              "  [5,\n",
              "   137,\n",
              "   138,\n",
              "   123,\n",
              "   112,\n",
              "   139,\n",
              "   136,\n",
              "   114,\n",
              "   115,\n",
              "   131,\n",
              "   122,\n",
              "   144,\n",
              "   143,\n",
              "   121,\n",
              "   28,\n",
              "   29,\n",
              "   22,\n",
              "   21]],\n",
              " 6: [37.728128698241356,\n",
              "  [6, 40, 37, 39, 34, 120, 119, 118, 124, 128, 130, 129, 100, 99, 101, 35]],\n",
              " 7: [39.95303892224429,\n",
              "  [7,\n",
              "   85,\n",
              "   86,\n",
              "   52,\n",
              "   87,\n",
              "   65,\n",
              "   53,\n",
              "   64,\n",
              "   56,\n",
              "   77,\n",
              "   84,\n",
              "   75,\n",
              "   44,\n",
              "   43,\n",
              "   46,\n",
              "   69,\n",
              "   48,\n",
              "   45,\n",
              "   67,\n",
              "   47,\n",
              "   72]],\n",
              " 8: [36.06764130530638,\n",
              "  [8, 135, 116, 117, 132, 133, 134, 161, 154, 162, 163, 164]],\n",
              " 9: [37.09260673187819, [9, 59, 49, 68, 18, 60, 61, 62, 63, 66, 51, 180]],\n",
              " 10: [38.02191243148413,\n",
              "  [10,\n",
              "   147,\n",
              "   165,\n",
              "   146,\n",
              "   152,\n",
              "   160,\n",
              "   157,\n",
              "   159,\n",
              "   149,\n",
              "   148,\n",
              "   155,\n",
              "   141,\n",
              "   140,\n",
              "   113,\n",
              "   142,\n",
              "   27,\n",
              "   167,\n",
              "   23]],\n",
              " 11: [37.09725435508211,\n",
              "  [11,\n",
              "   151,\n",
              "   173,\n",
              "   174,\n",
              "   172,\n",
              "   171,\n",
              "   168,\n",
              "   169,\n",
              "   170,\n",
              "   153,\n",
              "   158,\n",
              "   156,\n",
              "   175,\n",
              "   24,\n",
              "   20,\n",
              "   70,\n",
              "   30]],\n",
              " 12: [38.38108603460158,\n",
              "  [12,\n",
              "   26,\n",
              "   25,\n",
              "   58,\n",
              "   50,\n",
              "   13,\n",
              "   14,\n",
              "   15,\n",
              "   33,\n",
              "   16,\n",
              "   32,\n",
              "   31,\n",
              "   177,\n",
              "   179,\n",
              "   57,\n",
              "   150,\n",
              "   176,\n",
              "   178,\n",
              "   17,\n",
              "   19]]}"
            ]
          },
          "metadata": {
            "tags": []
          },
          "execution_count": 112
        }
      ]
    },
    {
      "cell_type": "code",
      "metadata": {
        "id": "XJ9acB-mPB3I",
        "colab_type": "code",
        "colab": {
          "base_uri": "https://localhost:8080/",
          "height": 520
        },
        "outputId": "945b78f2-ce51-40f4-f994-76608b41fabe"
      },
      "source": [
        "_weight_ = np.zeros((181,181))\n",
        "for k in e:\n",
        "  _weight_[k[0],k[1]] = weight_array[k[0],k[1]]\n",
        "plt.figure(figsize=(12,9)) \n",
        "G_nx = nx.Graph()\n",
        "G_nx2 = nx.Graph()\n",
        "G_nx3 = nx.Graph()\n",
        "\n",
        "for i in range(181):\n",
        "    for j in range(181):\n",
        "        if _weight_[i, j]!=0 and i<13 and j<13:\n",
        "          G_nx.add_edge(i, j)\n",
        "        if _weight_[i, j]!=0 and i>0 and j>0:\n",
        "          G_nx2.add_edge(i, j)\n",
        "nx.draw_networkx(G_nx, pos[:len(edge_A)+1], alpha=0.85)\n",
        "nx.draw_networkx(G_nx2,pos,alpha=0.6,with_labels=False,node_color='slateblue',\n",
        "    node_shape=\".\", node_size=100, style='dashed')\n",
        "GG = nx.Graph()\n",
        "GG.add_node(0)\n",
        "nx.draw_networkx(GG, {0:pos[0]}, node_color='r',node_shape='*', node_size=1200\n",
        "                 ,label='Central pipeline')\n",
        "p = {}\n",
        "for i in c:\n",
        "  G_nx3.add_node(i)\n",
        "  p[i] = pos[i]\n",
        "nx.draw_networkx(G_nx3, p, node_color='purple', node_size=120,with_labels=False,\n",
        "    node_shape=\",\",label='Isolated point')\n",
        "\n",
        "plt.show() # display"
      ],
      "execution_count": 111,
      "outputs": [
        {
          "output_type": "display_data",
          "data": {
            "image/png": "[encoded data removed]",
            "text/plain": [
              "<Figure size 864x648 with 1 Axes>"
            ]
          },
          "metadata": {
            "tags": []
          }
        }
      ]
    },
    {
      "cell_type": "code",
      "metadata": {
        "id": "dFw8l1NSq8pz",
        "colab_type": "code",
        "colab": {}
      },
      "source": [
        "def fun(node_B, learning = 100):\n",
        "  node_B_index = []\n",
        "  for i in range(_size):\n",
        "    if node_B[i]:\n",
        "      node_B_index.append(i+13)\n",
        "  node_A_index = list(range(0, 13))+node_B_index\n",
        "  weight_array_A = np.zeros((len(node_A_index),len(node_A_index)))\n",
        "  for id_i,i in enumerate(node_A_index):\n",
        "    for id_j,j in enumerate(node_A_index):\n",
        "        weight_array_A[id_i][id_j] = weight_array[i][j]\n",
        "  G_A = Graph(weight_array_A)\n",
        "  edge_AA = G_A.prim(first_node=0)\n",
        "  e, c, node_A = prim_pro(weight_array, edge_AA, cost=COST)\n",
        "  return np.sum(node_B)+learning*len(c)\n",
        "\n",
        "def mutate(node_B1, mu = 0.05):\n",
        "  l = len(node_B1)\n",
        "  for i in range(l):\n",
        "    p = np.random.random()\n",
        "    if p < mu:\n",
        "      node_B1[i] = 0 if node_B1[i]==1 else 0 \n",
        "  return node_B1\n",
        "\n",
        "def cross(node_B1,node_B2):\n",
        "  le = round(len(node_B1)/4)\n",
        "  temp = node_B1[:le].copy()\n",
        "  node_B1[:le] = node_B2[:le]\n",
        "  node_B2[:le] = temp\n",
        "  return node_B1,node_B2\n",
        "\n",
        "def select(geti):\n",
        "  sss = []\n",
        "  for i in tqdm(geti):\n",
        "    sss.append(fun(i))\n",
        "  idx = [i for i,v in sorted(enumerate(sss), key=lambda x:x[1])]\n",
        "  geti2 = []\n",
        "  for i in idx:\n",
        "    geti2.append(geti[i])\n",
        "  le = round(len(geti)*3/4)\n",
        "  # if le!=1:\n",
        "  #   le = le-1\n",
        "  g = []\n",
        "  for i in range(le):\n",
        "    g.append(geti2[i])\n",
        "  return g, sss, idx"
      ],
      "execution_count": 88,
      "outputs": []
    },
    {
      "cell_type": "code",
      "metadata": {
        "id": "Ukg-McJrp_Th",
        "colab_type": "code",
        "colab": {
          "base_uri": "https://localhost:8080/",
          "height": 429,
          "referenced_widgets": [
            "46cc5210d3d04fc2ad81133bc7de4ab6",
            "095abc5a3ef440cfa79d10778f32eb5e",
            "caa5169ab9814f469854ff7908c54f5c",
            "41975d8d29654bcfb260768bb611d982",
            "1964c08246134c779f8f630e562db7df",
            "9d5e6a7ce29948e296bd3a771ab690d2",
            "b69f9dbedf8c4515994ab6d174137b43",
            "2a79e1c02de640e5821bd8883365a280",
            "3d11991f26c24c81805fdc783ce59322",
            "2fb88e68ad9245a7aa6299410bc66b33",
            "508e4411bf67411d96dae6afe52bd8c9",
            "620083f5205d4ee189cca172e8e68bd9",
            "0caee22a61b54c63bb1e4ae45a58b62e",
            "1048b1d45dbd4620889c4250e9ac8e5e",
            "df2ac8371edb46abb15ca22627a1f296",
            "27c5930155214cf9a8498b3d4a09ba72",
            "fca7f779667848479a87e88d85ac5756",
            "2f7422ba71c94839ba1387ac0bc9c1b2",
            "8ecf679a9ab74868bb540f2c18e47530",
            "80bf156bd22b49108d166f5382cf070d",
            "c78ab9beab1a42988fb09885e8bad4fc",
            "862a448257f34701aaede40f3ac9c553",
            "214f4515988547e28cf78234052286da",
            "901aa5f8de0345f2b644a0952664a09d",
            "8d17b8e04d5b41dfb858c8aba62bcce4",
            "e0e3554034d64b8cadd37f57b33a214a",
            "f922b12cfa334c498a522b7b04b60295",
            "f62ce6641a7344bdaf77f0d02a95a5bc",
            "b4a8184f57de4fe59f1dcab98ab3dd70",
            "45fd8759cf1c4b69a1fb3837693655a4",
            "61063d64e6f1433b9e5575b7678c1291",
            "30edbf05db5b461c9688483e11389e0b",
            "ac6f4d23568340c1892183e7c3a99db1",
            "32cb1d371d7747878f97dc0116b7dbd2",
            "24911d906a9245b2bdc05838e308890b",
            "750bce6fe90c45f7b59c8452b9cda9dd",
            "8d12cdf5971243408f42057cda879e6e",
            "5ad1516546b84e0c98e80e2cc7f07142",
            "f825a9c974e3472ca56eb8da208dadca",
            "f477f8c6d73a4acd830da1c58fee16f0"
          ]
        },
        "outputId": "670c349d-f433-4bea-c96e-ef8e77fa953b"
      },
      "source": [
        "geti = []\n",
        "\n",
        "\n",
        "for i in range(5):\n",
        "  node_B = np.random.randint(0,2,size=(_size)) # 初始化个体\n",
        "  geti.append(node_B)\n",
        "for i in range(5):\n",
        "  for i in range(len(geti)):\n",
        "    geti[i] = mutate(geti[i])\n",
        "  if len(geti)-1!=1:\n",
        "    for i in range(0, len(geti)-1, 2):\n",
        "      geti[i],geti[i-1] = cross(geti[i],geti[i-1])\n",
        "  geti, sss, idx = select(geti)\n",
        "  print(sss)\n",
        "  print(idx)"
      ],
      "execution_count": 89,
      "outputs": [
        {
          "output_type": "display_data",
          "data": {
            "application/vnd.jupyter.widget-view+json": {
              "model_id": "46cc5210d3d04fc2ad81133bc7de4ab6",
              "version_minor": 0,
              "version_major": 2
            },
            "text/plain": [
              "HBox(children=(FloatProgress(value=0.0, max=5.0), HTML(value='')))"
            ]
          },
          "metadata": {
            "tags": []
          }
        },
        {
          "output_type": "stream",
          "text": [
            "\n",
            "[30, 29, 31, 24, 22]\n",
            "[4, 3, 1, 0, 2]\n"
          ],
          "name": "stdout"
        },
        {
          "output_type": "display_data",
          "data": {
            "application/vnd.jupyter.widget-view+json": {
              "model_id": "3d11991f26c24c81805fdc783ce59322",
              "version_minor": 0,
              "version_major": 2
            },
            "text/plain": [
              "HBox(children=(FloatProgress(value=0.0, max=4.0), HTML(value='')))"
            ]
          },
          "metadata": {
            "tags": []
          }
        },
        {
          "output_type": "stream",
          "text": [
            "\n",
            "[216, 18, 32, 31]\n",
            "[1, 3, 2, 0]\n"
          ],
          "name": "stdout"
        },
        {
          "output_type": "display_data",
          "data": {
            "application/vnd.jupyter.widget-view+json": {
              "model_id": "fca7f779667848479a87e88d85ac5756",
              "version_minor": 0,
              "version_major": 2
            },
            "text/plain": [
              "HBox(children=(FloatProgress(value=0.0, max=3.0), HTML(value='')))"
            ]
          },
          "metadata": {
            "tags": []
          }
        },
        {
          "output_type": "stream",
          "text": [
            "\n",
            "[22, 29, 26]\n",
            "[0, 2, 1]\n"
          ],
          "name": "stdout"
        },
        {
          "output_type": "display_data",
          "data": {
            "application/vnd.jupyter.widget-view+json": {
              "model_id": "8d17b8e04d5b41dfb858c8aba62bcce4",
              "version_minor": 0,
              "version_major": 2
            },
            "text/plain": [
              "HBox(children=(FloatProgress(value=0.0, max=2.0), HTML(value='')))"
            ]
          },
          "metadata": {
            "tags": []
          }
        },
        {
          "output_type": "stream",
          "text": [
            "\n",
            "[20, 24]\n",
            "[0, 1]\n"
          ],
          "name": "stdout"
        },
        {
          "output_type": "display_data",
          "data": {
            "application/vnd.jupyter.widget-view+json": {
              "model_id": "ac6f4d23568340c1892183e7c3a99db1",
              "version_minor": 0,
              "version_major": 2
            },
            "text/plain": [
              "HBox(children=(FloatProgress(value=0.0, max=2.0), HTML(value='')))"
            ]
          },
          "metadata": {
            "tags": []
          }
        },
        {
          "output_type": "stream",
          "text": [
            "\n",
            "[20, 23]\n",
            "[0, 1]\n"
          ],
          "name": "stdout"
        }
      ]
    },
    {
      "cell_type": "code",
      "metadata": {
        "id": "TvxeUiWrDu0T",
        "colab_type": "code",
        "colab": {}
      },
      "source": [
        "geti[idx[0]], sss[idx[0]], c"
      ],
      "execution_count": null,
      "outputs": []
    },
    {
      "cell_type": "code",
      "metadata": {
        "id": "1JXRK53WAW7L",
        "colab_type": "code",
        "colab": {}
      },
      "source": [
        ""
      ],
      "execution_count": null,
      "outputs": []
    },
    {
      "cell_type": "code",
      "metadata": {
        "id": "dULDrA4Eiwms",
        "colab_type": "code",
        "colab": {
          "base_uri": "https://localhost:8080/",
          "height": 353
        },
        "outputId": "a32e4dc3-18e0-48c5-9f47-8cd698d041bd"
      },
      "source": [
        "add_node=[]\n",
        "for i,j in enumerate(geti[idx[0]]):\n",
        "  if j==1:\n",
        "    add_node.append(c[i])\n",
        "add_node"
      ],
      "execution_count": 91,
      "outputs": [
        {
          "output_type": "execute_result",
          "data": {
            "text/plain": [
              "[18,\n",
              " 19,\n",
              " 21,\n",
              " 22,\n",
              " 23,\n",
              " 24,\n",
              " 46,\n",
              " 51,\n",
              " 62,\n",
              " 66,\n",
              " 72,\n",
              " 88,\n",
              " 95,\n",
              " 106,\n",
              " 121,\n",
              " 143,\n",
              " 163,\n",
              " 166,\n",
              " 167,\n",
              " 180]"
            ]
          },
          "metadata": {
            "tags": []
          },
          "execution_count": 91
        }
      ]
    },
    {
      "cell_type": "code",
      "metadata": {
        "id": "Bv1_hASWbIqH",
        "colab_type": "code",
        "colab": {
          "base_uri": "https://localhost:8080/",
          "height": 536
        },
        "outputId": "9e4c9f56-2f31-4e4a-9ae2-ec4eec4a1062"
      },
      "source": [
        "node_A_index = list(range(0, 13))+add_node\n",
        "weight_array_A = np.zeros((len(node_A_index),len(node_A_index)))\n",
        "for id_i,i in enumerate(node_A_index):\n",
        "  for id_j,j in enumerate(node_A_index):\n",
        "      weight_array_A[id_i][id_j] = weight_array[i][j]\n",
        "G_A = Graph(weight_array_A,add_node=add_node)\n",
        "edge_AA = G_A.prim(first_node=0)\n",
        "\n",
        "pos_A = get_xy(13,add_node=add_node)\n",
        "G_A.plot_matrix(pos_A)"
      ],
      "execution_count": 92,
      "outputs": [
        {
          "output_type": "display_data",
          "data": {
            "image/png": "[encoded data removed]",
            "text/plain": [
              "<Figure size 864x648 with 1 Axes>"
            ]
          },
          "metadata": {
            "tags": []
          }
        }
      ]
    },
    {
      "cell_type": "code",
      "metadata": {
        "id": "6mMmskIsh23n",
        "colab_type": "code",
        "colab": {}
      },
      "source": [
        "e, c, node_A = prim_pro(weight_array, edge_AA, cost=COST)"
      ],
      "execution_count": 93,
      "outputs": []
    },
    {
      "cell_type": "code",
      "metadata": {
        "id": "Fsl6kwHziZCr",
        "colab_type": "code",
        "colab": {
          "base_uri": "https://localhost:8080/",
          "height": 520
        },
        "outputId": "655940d8-5856-4025-a9d3-f8a88ed29473"
      },
      "source": [
        "_weight_ = np.zeros((181,181))\n",
        "for k in e:\n",
        "  _weight_[k[0],k[1]] = weight_array[k[0],k[1]]\n",
        "plt.figure(figsize=(12,9)) \n",
        "G_nx = nx.Graph()\n",
        "G_nx2 = nx.Graph()\n",
        "G_nx3 = nx.Graph()\n",
        "pos_A = get_xy(13,add_node=add_node)\n",
        "for i in range(181):\n",
        "    for j in range(181):\n",
        "        if _weight_[i, j]!=0 and i<13 and j<13:\n",
        "          G_nx.add_edge(i, j)\n",
        "        if _weight_[i, j]!=0 and i>0 and j>0:\n",
        "          G_nx2.add_edge(i, j)\n",
        "nx.draw_networkx(G_nx, pos_A, alpha=0.85)\n",
        "nx.draw_networkx(G_nx2,pos,alpha=0.6,with_labels=False,node_color='slateblue',\n",
        "    node_shape=\".\", node_size=100, style='dashed')\n",
        "GG = nx.Graph()\n",
        "GG.add_node(0)\n",
        "nx.draw_networkx(GG, {0:pos[0]}, node_color='r',node_shape='*', node_size=1200\n",
        "                 ,label='Central pipeline')\n",
        "p = {}\n",
        "for i in add_node:\n",
        "  G_nx3.add_node(i)\n",
        "  p[i] = pos[i]\n",
        "nx.draw_networkx(G_nx3, p, node_color='gold', node_size=150,with_labels=False,\n",
        "    node_shape=\",\",label='Isolated point')\n",
        "\n",
        "plt.show() # display"
      ],
      "execution_count": 94,
      "outputs": [
        {
          "output_type": "display_data",
          "data": {
            "image/png": "[encoded data removed]",
            "text/plain": [
              "<Figure size 864x648 with 1 Axes>"
            ]
          },
          "metadata": {
            "tags": []
          }
        }
      ]
    },
    {
      "cell_type": "code",
      "metadata": {
        "id": "kW-H-LzwojH6",
        "colab_type": "code",
        "colab": {}
      },
      "source": [
        ""
      ],
      "execution_count": null,
      "outputs": []
    },
    {
      "cell_type": "code",
      "metadata": {
        "id": "zSon9u1LojMI",
        "colab_type": "code",
        "colab": {}
      },
      "source": [
        ""
      ],
      "execution_count": null,
      "outputs": []
    }
  ]
}